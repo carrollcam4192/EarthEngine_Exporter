{
 "cells": [
  {
   "cell_type": "markdown",
   "id": "0f81fa43",
   "metadata": {},
   "source": [
    "<h1>Image Exporter for Google Earth Engine</h1>\n",
    "\n",
    "The code below is the first version of the image exporter. It takes a KML file that's imported from google earth pro, and transforms the polygon in the file into an image that is then exported to google drive"
   ]
  },
  {
   "cell_type": "markdown",
   "id": "dcc6118e",
   "metadata": {},
   "source": [
    "<h2>Imports</h2>"
   ]
  },
  {
   "cell_type": "code",
   "execution_count": null,
   "id": "fc5ab73a",
   "metadata": {},
   "outputs": [],
   "source": [
    "import ee\n",
    "import geemap\n",
    "import geopandas as gpd\n",
    "from shapely.ops import transform"
   ]
  },
  {
   "cell_type": "markdown",
   "id": "f4a6cb48",
   "metadata": {},
   "source": [
    "<h2>Authenticating and Initializing Google Earth Engine</h2>"
   ]
  },
  {
   "cell_type": "code",
   "execution_count": null,
   "id": "964bf2b7",
   "metadata": {},
   "outputs": [],
   "source": [
    "# Initialize\n",
    "try:\n",
    "    ee.Initialize(project='golf-mapper-463720')\n",
    "    print(\"Earth Engine initialized successfully.\")\n",
    "except Exception as e:\n",
    "    print(f\"Initialization failed: {e}\")\n",
    "    ee.Authenticate()\n",
    "    ee.Initialize(project='golf-mapper-463720')"
   ]
  },
  {
   "cell_type": "markdown",
   "id": "d23f3723",
   "metadata": {},
   "source": [
    "<h2>Data Cleaning, File Conversion</h2>\n",
    "By default, the KML file from Earth Pro has a Z-axis, which is unable to be interpreted by Earth Engine. The code below removes the Z-axis component from the file. After the removal, the code converts the KML file into an Earth Engine Object. Lastly, the geometry is converted into.a 'Geometry' type variable, which allows it to be passed to the image clipping and export functions. \n",
    "\n",
    "NOTE: the image clipper can use the 'geometry variable', but later on when we export to drive it needs to be a 'Geometry' type variable, which is called 'my_region' in this cell"
   ]
  },
  {
   "cell_type": "code",
   "execution_count": null,
   "id": "bc9e47b0",
   "metadata": {},
   "outputs": [],
   "source": [
    "# Read your KML\n",
    "#gdf = geopandas data frame\n",
    "#gdf_to_ee() is a built-in earthengine function\n",
    "gdf = gpd.read_file('Path/to/kml_file') ### <=== EDIT THIS LINE\n",
    "\n",
    "# Function to remove Z coordinates\n",
    "def remove_z_dimension(geom):\n",
    "    if geom.has_z:\n",
    "        return transform(lambda x, y, z=None: (x, y), geom)\n",
    "    return geom\n",
    "\n",
    "# Apply to all geometries\n",
    "gdf['geometry'] = gdf.geometry.apply(remove_z_dimension)\n",
    "\n",
    "# Verify it worked\n",
    "print(\"After Z removal:\")\n",
    "print(\"Geometry types:\", gdf.geometry.type.value_counts())\n",
    "print(\"Sample geometry:\", gdf.geometry.iloc[0])\n",
    "\n",
    "# Now try the Earth Engine conversion\n",
    "geometry = geemap.gdf_to_ee(gdf)\n",
    "print(\"Success! Converted to Earth Engine geometry\")\n",
    "print(f\"GEOMETRY TYPE: {type(geometry)}\")\n",
    "print('===============')\n",
    "\n",
    "print('Converting geometry type...')\n",
    "my_region = geometry.geometry()\n",
    "print(f\"CONVERTED REGION TYPE: {type(my_region)} ✅\")\n",
    "print(f\"CONVERTED REGION INFO: {my_region.getInfo()}\")\n",
    "print('===============')\n",
    "\n",
    "# We will pass the 'my_region' variable to the exporter function later on"
   ]
  },
  {
   "cell_type": "markdown",
   "id": "3c768b7e",
   "metadata": {},
   "source": [
    "<h2>Clipping the Satellite Image of the Region</h2>\n",
    "\n",
    "Using images from the sentinel satellite"
   ]
  },
  {
   "cell_type": "code",
   "execution_count": null,
   "id": "169b030d",
   "metadata": {},
   "outputs": [],
   "source": [
    "# Specifying the start and end date of the satellite imagery\n",
    "start_date = '2024-01-01'\n",
    "end_date = '2024-12-31'\n",
    "\n",
    "# Get the cleanest Sentinel-2 imagery possible\n",
    "sentinel_clean = ee.ImageCollection('COPERNICUS/S2_SR_HARMONIZED') \\\n",
    "    .filterDate(start_date, end_date) \\\n",
    "    .filterBounds(geometry) \\\n",
    "    .filter(ee.Filter.lt('CLOUDY_PIXEL_PERCENTAGE', 3)) \\\n",
    "    .filter(ee.Filter.lt('CLOUD_COVERAGE_ASSESSMENT', 3)) \\\n",
    "    .median()\n",
    "\n",
    "# Select RGB bands and apply proper scaling\n",
    "rgb_image = sentinel_clean.select(['B4', 'B3', 'B2']).multiply(0.0001)\n",
    "clipped_image = rgb_image.clip(geometry)\n",
    "\n",
    "print(\"Image Clipped ✅\")"
   ]
  },
  {
   "cell_type": "markdown",
   "id": "196bab1f",
   "metadata": {},
   "source": [
    "<h2>Exporting the image to Google Drive</h2>"
   ]
  },
  {
   "cell_type": "code",
   "execution_count": null,
   "id": "341df046",
   "metadata": {},
   "outputs": [],
   "source": [
    "# Enhanced visualization parameters for golf courses\n",
    "vis_params = {\n",
    "    'bands': ['B4', 'B3', 'B2'],\n",
    "    'min': 0.02,    # Slightly higher min for better contrast\n",
    "    'max': 0.28,    # Adjusted max for golf course greens\n",
    "    'gamma': 1.6    # Higher gamma for more vibrant colors\n",
    "}\n",
    "\n",
    "vis_image = clipped_image.visualize(**vis_params)\n",
    "\n",
    "# Export with optimal settings\n",
    "task = ee.batch.Export.image.toDrive(\n",
    "    image=vis_image,\n",
    "    description='Description of the Clipped image', ### <=== EDIT THIS LINE\n",
    "    folder='My_googledrive_folder', ### <=== EDIT THIS LINE\n",
    "    fileNamePrefix='file_name', ### <=== EDIT THIS LINE\n",
    "    scale=10,  # Native resolution\n",
    "    region=my_region,\n",
    "    maxPixels=1e9,\n",
    "    formatOptions={'cloudOptimized': True}\n",
    ")\n",
    "\n",
    "task.start()\n",
    "print(f\"Task Status: {task.status()}\")\n"
   ]
  }
 ],
 "metadata": {
  "kernelspec": {
   "display_name": "venv",
   "language": "python",
   "name": "python3"
  },
  "language_info": {
   "codemirror_mode": {
    "name": "ipython",
    "version": 3
   },
   "file_extension": ".py",
   "mimetype": "text/x-python",
   "name": "python",
   "nbconvert_exporter": "python",
   "pygments_lexer": "ipython3",
   "version": "3.11.13"
  }
 },
 "nbformat": 4,
 "nbformat_minor": 5
}
