{
 "cells": [
  {
   "cell_type": "markdown",
   "id": "0f81fa43",
   "metadata": {},
   "source": [
    "<h1>Image Exporter for Google Earth Engine</h1>\n",
    "\n",
    "The code below is the first version of the image exporter. It takes a KML file that's imported from google earth pro, and transforms the polygon in the file into an image that is then exported to google drive"
   ]
  },
  {
   "cell_type": "markdown",
   "id": "dcc6118e",
   "metadata": {},
   "source": [
    "<h2>Imports</h2>"
   ]
  },
  {
   "cell_type": "code",
   "execution_count": null,
   "id": "fc5ab73a",
   "metadata": {},
   "outputs": [],
   "source": [
    "import ee\n",
    "import geemap\n",
    "import geopandas as gpd\n",
    "from shapely.ops import transform"
   ]
  },
  {
   "cell_type": "markdown",
   "id": "f4a6cb48",
   "metadata": {},
   "source": [
    "<h2>Authenticating and Initializing Google Earth Engine</h2>"
   ]
  },
  {
   "cell_type": "code",
   "execution_count": null,
   "id": "964bf2b7",
   "metadata": {},
   "outputs": [],
   "source": [
    "# Initialize\n",
    "try:\n",
    "    ee.Initialize(project='golf-mapper-463720')\n",
    "    print(\"Earth Engine initialized successfully.\")\n",
    "except Exception as e:\n",
    "    print(f\"Initialization failed: {e}\")\n",
    "    ee.Authenticate()\n",
    "    ee.Initialize(project='golf-mapper-463720')"
   ]
  },
  {
   "cell_type": "markdown",
   "id": "d23f3723",
   "metadata": {},
   "source": [
    "<h2>Data Cleaning, File Conversion</h2>\n",
    "By default, the KML file from Earth Pro has a Z-axis, which is unable to be interpreted by Earth Engine. The code below removes the Z-axis component from the file. After the removal, the code converts the KML file into an Earth Engine Object. Lastly, the geometry is converted into.a 'Geometry' type variable, which allows it to be passed to the image clipping and export functions. \n",
    "\n",
    "NOTE: the image can use the 'geometry variable', but later on when we export to drive it needs to be a 'Geometry' type variable, which is called 'my_region' in this cell"
   ]
  },
  {
   "cell_type": "code",
   "execution_count": null,
   "id": "bc9e47b0",
   "metadata": {},
   "outputs": [
    {
     "data": {
      "text/html": [
       "\n",
       "            <style>\n",
       "                .geemap-dark {\n",
       "                    --jp-widgets-color: white;\n",
       "                    --jp-widgets-label-color: white;\n",
       "                    --jp-ui-font-color1: white;\n",
       "                    --jp-layout-color2: #454545;\n",
       "                    background-color: #383838;\n",
       "                }\n",
       "\n",
       "                .geemap-dark .jupyter-button {\n",
       "                    --jp-layout-color3: #383838;\n",
       "                }\n",
       "\n",
       "                .geemap-colab {\n",
       "                    background-color: var(--colab-primary-surface-color, white);\n",
       "                }\n",
       "\n",
       "                .geemap-colab .jupyter-button {\n",
       "                    --jp-layout-color3: var(--colab-primary-surface-color, white);\n",
       "                }\n",
       "            </style>\n",
       "            "
      ],
      "text/plain": [
       "<IPython.core.display.HTML object>"
      ]
     },
     "metadata": {},
     "output_type": "display_data"
    },
    {
     "name": "stdout",
     "output_type": "stream",
     "text": [
      "After Z removal:\n",
      "Geometry types: Polygon    1\n",
      "Name: count, dtype: int64\n",
      "Sample geometry: POLYGON ((-95.37972929310104 37.65883757523466, -95.35579120123668 37.65832987171771, -95.35416643387549 37.66965512912511, -95.3815263901972 37.66997271533956, -95.37972929310104 37.65883757523466)) 😑\n",
      "Success! Converted to Earth Engine geometry\n",
      "GEOMETRY TYPE: <class 'ee.featurecollection.FeatureCollection'>\n",
      "===============\n",
      "Converting geometry type...\n",
      "CONVERTED REGION TYPE: <class 'ee.geometry.Geometry'> ✅\n",
      "CONVERTED REGION INFO: {'type': 'Polygon', 'coordinates': [[[-95.37972929310104, 37.65883757523466], [-95.35579120123668, 37.65832987171771], [-95.35416643387549, 37.66965512912511], [-95.3815263901972, 37.66997271533956], [-95.37972929310104, 37.65883757523466]]]}\n",
      "===============\n"
     ]
    }
   ],
   "source": [
    "# Read your KML\n",
    "#gdf = geopandas data frame\n",
    "#gdf_to_ee() is a built-in earthengine function\n",
    "gdf = gpd.read_file('/Users/carrollcj/proj/golfmapper/kml_files/test3.kml')\n",
    "\n",
    "# Function to remove Z coordinates\n",
    "def remove_z_dimension(geom):\n",
    "    if geom.has_z:\n",
    "        return transform(lambda x, y, z=None: (x, y), geom)\n",
    "    return geom\n",
    "\n",
    "# Apply to all geometries\n",
    "gdf['geometry'] = gdf.geometry.apply(remove_z_dimension)\n",
    "\n",
    "# Verify it worked\n",
    "print(\"After Z removal:\")\n",
    "print(\"Geometry types:\", gdf.geometry.type.value_counts())\n",
    "print(\"Sample geometry:\", gdf.geometry.iloc[0])\n",
    "\n",
    "# Now try the Earth Engine conversion\n",
    "geometry = geemap.gdf_to_ee(gdf)\n",
    "print(\"Success! Converted to Earth Engine geometry\")\n",
    "print(f\"GEOMETRY TYPE: {type(geometry)}\")\n",
    "print('===============')\n",
    "\n",
    "print('Converting geometry type...')\n",
    "my_region = geometry.geometry()\n",
    "print(f\"CONVERTED REGION TYPE: {type(my_region)} ✅\")\n",
    "print(f\"CONVERTED REGION INFO: {my_region.getInfo()}\")\n",
    "print('===============')\n",
    "\n",
    "#We will pass the 'my_region' variable to the exporter function later on"
   ]
  },
  {
   "cell_type": "markdown",
   "id": "3c768b7e",
   "metadata": {},
   "source": [
    "<h2>Clipping the Satellite Image of the Region</h2>\n",
    "\n",
    "Using images from the sentinel satellite"
   ]
  },
  {
   "cell_type": "code",
   "execution_count": 9,
   "id": "169b030d",
   "metadata": {},
   "outputs": [
    {
     "data": {
      "text/html": [
       "\n",
       "            <style>\n",
       "                .geemap-dark {\n",
       "                    --jp-widgets-color: white;\n",
       "                    --jp-widgets-label-color: white;\n",
       "                    --jp-ui-font-color1: white;\n",
       "                    --jp-layout-color2: #454545;\n",
       "                    background-color: #383838;\n",
       "                }\n",
       "\n",
       "                .geemap-dark .jupyter-button {\n",
       "                    --jp-layout-color3: #383838;\n",
       "                }\n",
       "\n",
       "                .geemap-colab {\n",
       "                    background-color: var(--colab-primary-surface-color, white);\n",
       "                }\n",
       "\n",
       "                .geemap-colab .jupyter-button {\n",
       "                    --jp-layout-color3: var(--colab-primary-surface-color, white);\n",
       "                }\n",
       "            </style>\n",
       "            "
      ],
      "text/plain": [
       "<IPython.core.display.HTML object>"
      ]
     },
     "metadata": {},
     "output_type": "display_data"
    }
   ],
   "source": [
    "start_date = '2023-01-01'\n",
    "end_date = '2023-12-31'\n",
    "\n",
    "# Get Sentinel-2 imagery\n",
    "sentinel = ee.ImageCollection('COPERNICUS/S2_SR_HARMONIZED') \\\n",
    "    .filterDate(start_date, end_date) \\\n",
    "    .filterBounds(geometry) \\\n",
    "    .filter(ee.Filter.lt('CLOUDY_PIXEL_PERCENTAGE', 10)) \\\n",
    "    .median()  # Get median composite\n",
    "\n",
    "# Clip the image to your polygon\n",
    "clipped_image = sentinel.clip(geometry)"
   ]
  },
  {
   "cell_type": "markdown",
   "id": "1a831ae9",
   "metadata": {},
   "source": [
    "<h2>Exporting the image to Google Drive</h2>\n",
    "\n",
    "FIXME:\n",
    "- need to figure out the scale variable\n",
    "- how to get an actual image not just black and white.\n"
   ]
  },
  {
   "cell_type": "code",
   "execution_count": 12,
   "id": "d3bdf02d",
   "metadata": {},
   "outputs": [
    {
     "data": {
      "text/html": [
       "\n",
       "            <style>\n",
       "                .geemap-dark {\n",
       "                    --jp-widgets-color: white;\n",
       "                    --jp-widgets-label-color: white;\n",
       "                    --jp-ui-font-color1: white;\n",
       "                    --jp-layout-color2: #454545;\n",
       "                    background-color: #383838;\n",
       "                }\n",
       "\n",
       "                .geemap-dark .jupyter-button {\n",
       "                    --jp-layout-color3: #383838;\n",
       "                }\n",
       "\n",
       "                .geemap-colab {\n",
       "                    background-color: var(--colab-primary-surface-color, white);\n",
       "                }\n",
       "\n",
       "                .geemap-colab .jupyter-button {\n",
       "                    --jp-layout-color3: var(--colab-primary-surface-color, white);\n",
       "                }\n",
       "            </style>\n",
       "            "
      ],
      "text/plain": [
       "<IPython.core.display.HTML object>"
      ]
     },
     "metadata": {},
     "output_type": "display_data"
    },
    {
     "name": "stdout",
     "output_type": "stream",
     "text": [
      "Task status: {'state': 'READY', 'description': 'clipped_image_test', 'priority': 100, 'creation_timestamp_ms': 1752455619987, 'update_timestamp_ms': 1752455619987, 'start_timestamp_ms': 0, 'task_type': 'EXPORT_IMAGE', 'id': '7XODL5R3SDF3XMFPTJYZQ5U5', 'name': 'projects/golf-mapper-463720/operations/7XODL5R3SDF3XMFPTJYZQ5U5'}\n"
     ]
    }
   ],
   "source": [
    "task = ee.batch.Export.image.toDrive(\n",
    "    image=clipped_image,\n",
    "    description='clipped_image_test',\n",
    "    folder='GEE_Export_Test',  # Optional: creates folder in Drive\n",
    "    fileNamePrefix='test_30scale',\n",
    "    scale=30,  # Adjust resolution\n",
    "    region=my_region,\n",
    "    maxPixels=1e9\n",
    ")\n",
    "task.start()\n",
    "\n",
    "print(f\"Task status: {task.status()}\")"
   ]
  },
  {
   "cell_type": "markdown",
   "id": "db458729",
   "metadata": {},
   "source": []
  },
  {
   "cell_type": "markdown",
   "id": "2f1f150f",
   "metadata": {},
   "source": []
  }
 ],
 "metadata": {
  "kernelspec": {
   "display_name": "venv",
   "language": "python",
   "name": "python3"
  },
  "language_info": {
   "codemirror_mode": {
    "name": "ipython",
    "version": 3
   },
   "file_extension": ".py",
   "mimetype": "text/x-python",
   "name": "python",
   "nbconvert_exporter": "python",
   "pygments_lexer": "ipython3",
   "version": "3.11.13"
  }
 },
 "nbformat": 4,
 "nbformat_minor": 5
}
