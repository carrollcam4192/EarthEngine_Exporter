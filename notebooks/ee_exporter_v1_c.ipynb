{
 "cells": [
  {
   "cell_type": "markdown",
   "id": "0f81fa43",
   "metadata": {},
   "source": [
    "<h1>Image Exporter for Google Earth Engine</h1>\n",
    "\n",
    "The code below is the first version of the image exporter. It takes a KML file that's imported from google earth pro, and transforms the polygon in the file into an image that is then exported to google drive"
   ]
  },
  {
   "cell_type": "markdown",
   "id": "dcc6118e",
   "metadata": {},
   "source": [
    "<h2>Imports</h2>"
   ]
  },
  {
   "cell_type": "code",
   "execution_count": 1,
   "id": "fc5ab73a",
   "metadata": {},
   "outputs": [
    {
     "name": "stderr",
     "output_type": "stream",
     "text": [
      "/Users/carrollcj/proj/golfmapper/venv/lib/python3.11/site-packages/geemap/conversion.py:23: UserWarning: pkg_resources is deprecated as an API. See https://setuptools.pypa.io/en/latest/pkg_resources.html. The pkg_resources package is slated for removal as early as 2025-11-30. Refrain from using this package or pin to Setuptools<81.\n",
      "  import pkg_resources\n"
     ]
    }
   ],
   "source": [
    "import ee\n",
    "import geemap\n",
    "import geopandas as gpd\n",
    "from shapely.ops import transform"
   ]
  },
  {
   "cell_type": "markdown",
   "id": "f4a6cb48",
   "metadata": {},
   "source": [
    "<h2>Authenticating and Initializing Google Earth Engine</h2>"
   ]
  },
  {
   "cell_type": "code",
   "execution_count": 3,
   "id": "964bf2b7",
   "metadata": {},
   "outputs": [
    {
     "data": {
      "text/html": [
       "\n",
       "            <style>\n",
       "                .geemap-dark {\n",
       "                    --jp-widgets-color: white;\n",
       "                    --jp-widgets-label-color: white;\n",
       "                    --jp-ui-font-color1: white;\n",
       "                    --jp-layout-color2: #454545;\n",
       "                    background-color: #383838;\n",
       "                }\n",
       "\n",
       "                .geemap-dark .jupyter-button {\n",
       "                    --jp-layout-color3: #383838;\n",
       "                }\n",
       "\n",
       "                .geemap-colab {\n",
       "                    background-color: var(--colab-primary-surface-color, white);\n",
       "                }\n",
       "\n",
       "                .geemap-colab .jupyter-button {\n",
       "                    --jp-layout-color3: var(--colab-primary-surface-color, white);\n",
       "                }\n",
       "            </style>\n",
       "            "
      ],
      "text/plain": [
       "<IPython.core.display.HTML object>"
      ]
     },
     "metadata": {},
     "output_type": "display_data"
    },
    {
     "name": "stdout",
     "output_type": "stream",
     "text": [
      "Earth Engine initialized successfully.\n"
     ]
    }
   ],
   "source": [
    "# Initialize\n",
    "try:\n",
    "    ee.Initialize(project='golf-mapper-463720')\n",
    "    print(\"Earth Engine initialized successfully.\")\n",
    "except Exception as e:\n",
    "    print(f\"Initialization failed: {e}\")\n",
    "    ee.Authenticate()\n",
    "    ee.Initialize(project='golf-mapper-463720')"
   ]
  },
  {
   "cell_type": "markdown",
   "id": "d23f3723",
   "metadata": {},
   "source": [
    "<h2>Data Cleaning, File Conversion</h2>\n",
    "By default, the KML file from Earth Pro has a Z-axis, which is unable to be interpreted by Earth Engine. The code below removes the Z-axis component from the file. After the removal, the code converts the KML file into an Earth Engine Object. Lastly, the geometry is converted into.a 'Geometry' type variable, which allows it to be passed to the image clipping and export functions. \n",
    "\n",
    "NOTE: the image can use the 'geometry variable', but later on when we export to drive it needs to be a 'Geometry' type variable, which is called 'my_region' in this cell"
   ]
  },
  {
   "cell_type": "code",
   "execution_count": 4,
   "id": "bc9e47b0",
   "metadata": {},
   "outputs": [
    {
     "data": {
      "text/html": [
       "\n",
       "            <style>\n",
       "                .geemap-dark {\n",
       "                    --jp-widgets-color: white;\n",
       "                    --jp-widgets-label-color: white;\n",
       "                    --jp-ui-font-color1: white;\n",
       "                    --jp-layout-color2: #454545;\n",
       "                    background-color: #383838;\n",
       "                }\n",
       "\n",
       "                .geemap-dark .jupyter-button {\n",
       "                    --jp-layout-color3: #383838;\n",
       "                }\n",
       "\n",
       "                .geemap-colab {\n",
       "                    background-color: var(--colab-primary-surface-color, white);\n",
       "                }\n",
       "\n",
       "                .geemap-colab .jupyter-button {\n",
       "                    --jp-layout-color3: var(--colab-primary-surface-color, white);\n",
       "                }\n",
       "            </style>\n",
       "            "
      ],
      "text/plain": [
       "<IPython.core.display.HTML object>"
      ]
     },
     "metadata": {},
     "output_type": "display_data"
    },
    {
     "name": "stdout",
     "output_type": "stream",
     "text": [
      "After Z removal:\n",
      "Geometry types: Polygon    1\n",
      "Name: count, dtype: int64\n",
      "Sample geometry: POLYGON ((-70.6113298690445 41.90304433009476, -70.60572657811036 41.90567036556823, -70.60662374388424 41.90661736167065, -70.61204505244493 41.90410616553497, -70.6113298690445 41.90304433009476))\n",
      "Success! Converted to Earth Engine geometry\n",
      "GEOMETRY TYPE: <class 'ee.featurecollection.FeatureCollection'>\n",
      "===============\n",
      "Converting geometry type...\n",
      "CONVERTED REGION TYPE: <class 'ee.geometry.Geometry'> ✅\n",
      "CONVERTED REGION INFO: {'type': 'Polygon', 'coordinates': [[[-70.6113298690445, 41.90304433009476], [-70.60572657811036, 41.90567036556823], [-70.60662374388424, 41.90661736167065], [-70.61204505244493, 41.90410616553497], [-70.6113298690445, 41.90304433009476]]]}\n",
      "===============\n"
     ]
    }
   ],
   "source": [
    "# Read your KML\n",
    "#gdf = geopandas data frame\n",
    "#gdf_to_ee() is a built-in earthengine function\n",
    "gdf = gpd.read_file('/Users/carrollcj/proj/golfmapper/kml_files/OS_hole1.kml')\n",
    "\n",
    "# Function to remove Z coordinates\n",
    "def remove_z_dimension(geom):\n",
    "    if geom.has_z:\n",
    "        return transform(lambda x, y, z=None: (x, y), geom)\n",
    "    return geom\n",
    "\n",
    "# Apply to all geometries\n",
    "gdf['geometry'] = gdf.geometry.apply(remove_z_dimension)\n",
    "\n",
    "# Verify it worked\n",
    "print(\"After Z removal:\")\n",
    "print(\"Geometry types:\", gdf.geometry.type.value_counts())\n",
    "print(\"Sample geometry:\", gdf.geometry.iloc[0])\n",
    "\n",
    "# Now try the Earth Engine conversion\n",
    "geometry = geemap.gdf_to_ee(gdf)\n",
    "print(\"Success! Converted to Earth Engine geometry\")\n",
    "print(f\"GEOMETRY TYPE: {type(geometry)}\")\n",
    "print('===============')\n",
    "\n",
    "print('Converting geometry type...')\n",
    "my_region = geometry.geometry()\n",
    "print(f\"CONVERTED REGION TYPE: {type(my_region)} ✅\")\n",
    "print(f\"CONVERTED REGION INFO: {my_region.getInfo()}\")\n",
    "print('===============')\n",
    "\n",
    "#We will pass the 'my_region' variable to the exporter function later on"
   ]
  },
  {
   "cell_type": "markdown",
   "id": "3c768b7e",
   "metadata": {},
   "source": [
    "<h2>Clipping the Satellite Image of the Region</h2>\n",
    "\n",
    "Using images from the sentinel satellite"
   ]
  },
  {
   "cell_type": "code",
   "execution_count": 7,
   "id": "169b030d",
   "metadata": {},
   "outputs": [
    {
     "data": {
      "text/html": [
       "\n",
       "            <style>\n",
       "                .geemap-dark {\n",
       "                    --jp-widgets-color: white;\n",
       "                    --jp-widgets-label-color: white;\n",
       "                    --jp-ui-font-color1: white;\n",
       "                    --jp-layout-color2: #454545;\n",
       "                    background-color: #383838;\n",
       "                }\n",
       "\n",
       "                .geemap-dark .jupyter-button {\n",
       "                    --jp-layout-color3: #383838;\n",
       "                }\n",
       "\n",
       "                .geemap-colab {\n",
       "                    background-color: var(--colab-primary-surface-color, white);\n",
       "                }\n",
       "\n",
       "                .geemap-colab .jupyter-button {\n",
       "                    --jp-layout-color3: var(--colab-primary-surface-color, white);\n",
       "                }\n",
       "            </style>\n",
       "            "
      ],
      "text/plain": [
       "<IPython.core.display.HTML object>"
      ]
     },
     "metadata": {},
     "output_type": "display_data"
    },
    {
     "name": "stdout",
     "output_type": "stream",
     "text": [
      "=== SOLUTION 1: Optimized Sentinel-2 ===\n",
      "Solution 1 task status: {'state': 'READY', 'description': 'solution1_optimized_sentinel', 'priority': 100, 'creation_timestamp_ms': 1752872952817, 'update_timestamp_ms': 1752872952817, 'start_timestamp_ms': 0, 'task_type': 'EXPORT_IMAGE', 'id': 'LRLGTQBQAWAQWVRFQKVWRXBJ', 'name': 'projects/golf-mapper-463720/operations/LRLGTQBQAWAQWVRFQKVWRXBJ'}\n",
      "\n",
      "=== SOLUTION 2: Pan-Sharpening ===\n",
      "Solution 2 task status: {'state': 'READY', 'description': 'solution2_pansharpened', 'priority': 100, 'creation_timestamp_ms': 1752872953429, 'update_timestamp_ms': 1752872953429, 'start_timestamp_ms': 0, 'task_type': 'EXPORT_IMAGE', 'id': '2AYW6VIWRCFX2YBZ2IJMVPTH', 'name': 'projects/golf-mapper-463720/operations/2AYW6VIWRCFX2YBZ2IJMVPTH'}\n",
      "\n",
      "=== SOLUTION 3: Landsat 8/9 ===\n",
      "Solution 3 task status: {'state': 'READY', 'description': 'solution3_landsat', 'priority': 100, 'creation_timestamp_ms': 1752872953949, 'update_timestamp_ms': 1752872953949, 'start_timestamp_ms': 0, 'task_type': 'EXPORT_IMAGE', 'id': 'DSPECC773EKBVL7CYRFV62BY', 'name': 'projects/golf-mapper-463720/operations/DSPECC773EKBVL7CYRFV62BY'}\n"
     ]
    }
   ],
   "source": [
    "# start_date = '2023-01-01'\n",
    "# end_date = '2023-12-31'\n",
    "\n",
    "# # Get Sentinel-2 imagery\n",
    "# sentinel = ee.ImageCollection('COPERNICUS/S2_SR_HARMONIZED') \\\n",
    "#     .filterDate(start_date, end_date) \\\n",
    "#     .filterBounds(geometry) \\\n",
    "#     .filter(ee.Filter.lt('CLOUDY_PIXEL_PERCENTAGE', 10)) \\\n",
    "#     .median()  # Get median composite\n",
    "\n",
    "\n",
    "# rgb_image = sentinel.select(['B4', 'B3', 'B2']).multiply(0.0001)\n",
    "\n",
    "# # Clip the image to your polygon\n",
    "# clipped_image = rgb_image.clip(geometry)\n",
    "\n",
    "#THE CODE ABOVE IS FUNCTIONAL\n",
    "#Implementing a new clipping strategy (1) that will result in clearer images\n",
    "\n",
    "print(\"=== SOLUTION 1: Optimized Sentinel-2 ===\")\n",
    "\n",
    "# Use more restrictive cloud filtering and recent data\n",
    "start_date = '2024-01-01'\n",
    "end_date = '2024-12-31'\n",
    "\n",
    "# Get the cleanest Sentinel-2 imagery possible\n",
    "sentinel_clean = ee.ImageCollection('COPERNICUS/S2_SR_HARMONIZED') \\\n",
    "    .filterDate(start_date, end_date) \\\n",
    "    .filterBounds(geometry) \\\n",
    "    .filter(ee.Filter.lt('CLOUDY_PIXEL_PERCENTAGE', 3)) \\\n",
    "    .filter(ee.Filter.lt('CLOUD_COVERAGE_ASSESSMENT', 3)) \\\n",
    "    .median()\n",
    "\n",
    "# Select RGB bands and apply proper scaling\n",
    "rgb_image = sentinel_clean.select(['B4', 'B3', 'B2']).multiply(0.0001)\n",
    "clipped_image = rgb_image.clip(geometry)\n",
    "\n",
    "# Enhanced visualization parameters for golf courses\n",
    "vis_params = {\n",
    "    'bands': ['B4', 'B3', 'B2'],\n",
    "    'min': 0.02,    # Slightly higher min for better contrast\n",
    "    'max': 0.28,    # Adjusted max for golf course greens\n",
    "    'gamma': 1.6    # Higher gamma for more vibrant colors\n",
    "}\n",
    "\n",
    "vis_image = clipped_image.visualize(**vis_params)\n",
    "\n",
    "# Export with optimal settings\n",
    "task1 = ee.batch.Export.image.toDrive(\n",
    "    image=vis_image,\n",
    "    description='solution1_optimized_sentinel',\n",
    "    folder='GEE_Export_Test',\n",
    "    fileNamePrefix='golf_solution1_optimized',\n",
    "    scale=10,  # Native resolution\n",
    "    region=my_region,\n",
    "    maxPixels=1e9,\n",
    "    formatOptions={'cloudOptimized': True}\n",
    ")\n",
    "\n",
    "task1.start()\n",
    "print(f\"Solution 1 task status: {task1.status()}\")\n",
    "\n",
    "\n",
    "#Solution 2:\n",
    "\n",
    "\n",
    "print(\"\\n=== SOLUTION 2: Pan-Sharpening ===\")\n",
    "\n",
    "def enhanced_pan_sharpen(image):\n",
    "    \"\"\"\n",
    "    Advanced pan-sharpening using multiple bands for better detail\n",
    "    \"\"\"\n",
    "    # RGB bands (10m resolution)\n",
    "    rgb = image.select(['B4', 'B3', 'B2'])\n",
    "    \n",
    "    # Use B8 (NIR) as the panchromatic band - it's also 10m but has more detail\n",
    "    pan = image.select(['B8'])\n",
    "    \n",
    "    # Alternative: use B8A (narrow NIR) for even better results\n",
    "    # pan = image.select(['B8A'])  # This is 20m, so we'll stick with B8\n",
    "    \n",
    "    # Calculate intensity from RGB\n",
    "    intensity = rgb.reduce(ee.Reducer.mean())\n",
    "    \n",
    "    # Create sharpening ratio with smoothing\n",
    "    ratio = pan.divide(intensity.add(0.001))  # Add small value to avoid division by zero\n",
    "    \n",
    "    # Apply controlled sharpening (don't oversharpen)\n",
    "    sharpened = rgb.multiply(ratio).multiply(0.7).add(rgb.multiply(0.3))\n",
    "    \n",
    "    return sharpened\n",
    "\n",
    "# Apply pan-sharpening\n",
    "sentinel_for_sharp = ee.ImageCollection('COPERNICUS/S2_SR_HARMONIZED') \\\n",
    "    .filterDate(start_date, end_date) \\\n",
    "    .filterBounds(geometry) \\\n",
    "    .filter(ee.Filter.lt('CLOUDY_PIXEL_PERCENTAGE', 5)) \\\n",
    "    .map(enhanced_pan_sharpen) \\\n",
    "    .median()\n",
    "\n",
    "# Scale and clip\n",
    "sharp_clipped = sentinel_for_sharp.clip(geometry).multiply(0.0001)\n",
    "\n",
    "# Visualization for sharpened image\n",
    "sharp_vis = {\n",
    "    'bands': ['B4', 'B3', 'B2'],\n",
    "    'min': 0.015,\n",
    "    'max': 0.32,\n",
    "    'gamma': 1.4\n",
    "}\n",
    "\n",
    "sharp_vis_image = sharp_clipped.visualize(**sharp_vis)\n",
    "\n",
    "# Export pan-sharpened image\n",
    "task2 = ee.batch.Export.image.toDrive(\n",
    "    image=sharp_vis_image,\n",
    "    description='solution2_pansharpened',\n",
    "    folder='GEE_Export_Test',\n",
    "    fileNamePrefix='golf_solution2_pansharp',\n",
    "    scale=10,\n",
    "    region=my_region,\n",
    "    maxPixels=1e9,\n",
    "    formatOptions={'cloudOptimized': True}\n",
    ")\n",
    "\n",
    "task2.start()\n",
    "print(f\"Solution 2 task status: {task2.status()}\")\n",
    "\n",
    "\n",
    "#Solution 3:\n",
    "\n",
    "# =============================================================================\n",
    "# SOLUTION 3: LANDSAT 8/9 (Different sensor, sometimes clearer)\n",
    "# =============================================================================\n",
    "\n",
    "print(\"\\n=== SOLUTION 3: Landsat 8/9 ===\")\n",
    "\n",
    "# Landsat Collection 2 - often has different processing that can look clearer\n",
    "landsat = ee.ImageCollection('LANDSAT/LC08/C02/T1_L2') \\\n",
    "    .filterDate('2023-01-01', '2024-12-31') \\\n",
    "    .filterBounds(geometry) \\\n",
    "    .filter(ee.Filter.lt('CLOUD_COVER', 5)) \\\n",
    "    .median()\n",
    "\n",
    "# Landsat scaling factors for Collection 2\n",
    "# Apply scaling factors: multiply by 0.0000275 and add -0.2\n",
    "landsat_rgb = landsat.select(['SR_B4', 'SR_B3', 'SR_B2']) \\\n",
    "    .multiply(0.0000275).add(-0.2)\n",
    "\n",
    "landsat_clipped = landsat_rgb.clip(geometry)\n",
    "\n",
    "# Landsat visualization (30m resolution but different characteristics)\n",
    "landsat_vis = {\n",
    "    'bands': ['SR_B4', 'SR_B3', 'SR_B2'],\n",
    "    'min': 0.0,\n",
    "    'max': 0.35,\n",
    "    'gamma': 1.3\n",
    "}\n",
    "\n",
    "landsat_vis_image = landsat_clipped.visualize(**landsat_vis)\n",
    "\n",
    "# Export Landsat image\n",
    "task3 = ee.batch.Export.image.toDrive(\n",
    "    image=landsat_vis_image,\n",
    "    description='solution3_landsat',\n",
    "    folder='GEE_Export_Test',\n",
    "    fileNamePrefix='golf_solution3_landsat',\n",
    "    scale=30,  # Landsat's native resolution\n",
    "    region=my_region,\n",
    "    maxPixels=1e9,\n",
    "    formatOptions={'cloudOptimized': True}\n",
    ")\n",
    "\n",
    "task3.start()\n",
    "print(f\"Solution 3 task status: {task3.status()}\")\n",
    "\n"
   ]
  },
  {
   "cell_type": "markdown",
   "id": "1a831ae9",
   "metadata": {},
   "source": [
    "<h2>Exporting the image to Google Drive</h2>\n",
    "\n",
    "FIXME:\n",
    "- need to figure out the scale variable\n",
    "- how to get an actual image not just black and white.\n"
   ]
  },
  {
   "cell_type": "code",
   "execution_count": 15,
   "id": "d3bdf02d",
   "metadata": {},
   "outputs": [
    {
     "data": {
      "text/html": [
       "\n",
       "            <style>\n",
       "                .geemap-dark {\n",
       "                    --jp-widgets-color: white;\n",
       "                    --jp-widgets-label-color: white;\n",
       "                    --jp-ui-font-color1: white;\n",
       "                    --jp-layout-color2: #454545;\n",
       "                    background-color: #383838;\n",
       "                }\n",
       "\n",
       "                .geemap-dark .jupyter-button {\n",
       "                    --jp-layout-color3: #383838;\n",
       "                }\n",
       "\n",
       "                .geemap-colab {\n",
       "                    background-color: var(--colab-primary-surface-color, white);\n",
       "                }\n",
       "\n",
       "                .geemap-colab .jupyter-button {\n",
       "                    --jp-layout-color3: var(--colab-primary-surface-color, white);\n",
       "                }\n",
       "            </style>\n",
       "            "
      ],
      "text/plain": [
       "<IPython.core.display.HTML object>"
      ]
     },
     "metadata": {},
     "output_type": "display_data"
    },
    {
     "name": "stdout",
     "output_type": "stream",
     "text": [
      "Task status: {'state': 'READY', 'description': 'clipped_image_RGB', 'priority': 100, 'creation_timestamp_ms': 1752627058076, 'update_timestamp_ms': 1752627058076, 'start_timestamp_ms': 0, 'task_type': 'EXPORT_IMAGE', 'id': 'UMDENY52CSMHOZAFUNEZGLFN', 'name': 'projects/golf-mapper-463720/operations/UMDENY52CSMHOZAFUNEZGLFN'}\n"
     ]
    }
   ],
   "source": [
    "task = ee.batch.Export.image.toDrive(\n",
    "    image=clipped_image,\n",
    "    description='clipped_image_RGB',\n",
    "    folder='GEE_Export_Test',  # Optional: creates folder in Drive\n",
    "    fileNamePrefix='OS_test3',\n",
    "    scale=1,  # Adjust resolution\n",
    "    region=my_region,\n",
    "    maxPixels=1e9,\n",
    "\n",
    "    # formatOptions= {\n",
    "    #     'cloudOptimized: True'\n",
    "    # }\n",
    ")\n",
    "task.start()\n",
    "\n",
    "print(f\"Task status: {task.status()}\")"
   ]
  },
  {
   "cell_type": "code",
   "execution_count": 5,
   "id": "a904a59c",
   "metadata": {},
   "outputs": [
    {
     "data": {
      "text/html": [
       "\n",
       "            <style>\n",
       "                .geemap-dark {\n",
       "                    --jp-widgets-color: white;\n",
       "                    --jp-widgets-label-color: white;\n",
       "                    --jp-ui-font-color1: white;\n",
       "                    --jp-layout-color2: #454545;\n",
       "                    background-color: #383838;\n",
       "                }\n",
       "\n",
       "                .geemap-dark .jupyter-button {\n",
       "                    --jp-layout-color3: #383838;\n",
       "                }\n",
       "\n",
       "                .geemap-colab {\n",
       "                    background-color: var(--colab-primary-surface-color, white);\n",
       "                }\n",
       "\n",
       "                .geemap-colab .jupyter-button {\n",
       "                    --jp-layout-color3: var(--colab-primary-surface-color, white);\n",
       "                }\n",
       "            </style>\n",
       "            "
      ],
      "text/plain": [
       "<IPython.core.display.HTML object>"
      ]
     },
     "metadata": {},
     "output_type": "display_data"
    },
    {
     "data": {
      "application/vnd.jupyter.widget-view+json": {
       "model_id": "ad4b0b171ec4413b88fad1468f2e327f",
       "version_major": 2,
       "version_minor": 0
      },
      "text/plain": [
       "Map(center=[0, 0], controls=(WidgetControl(options=['position', 'transparent_bg'], widget=SearchDataGUI(childr…"
      ]
     },
     "metadata": {},
     "output_type": "display_data"
    }
   ],
   "source": [
    "Map = geemap.Map()\n",
    "\n",
    "display(Map)"
   ]
  },
  {
   "cell_type": "code",
   "execution_count": null,
   "id": "f2b1ee80",
   "metadata": {},
   "outputs": [],
   "source": []
  }
 ],
 "metadata": {
  "kernelspec": {
   "display_name": "venv",
   "language": "python",
   "name": "python3"
  },
  "language_info": {
   "codemirror_mode": {
    "name": "ipython",
    "version": 3
   },
   "file_extension": ".py",
   "mimetype": "text/x-python",
   "name": "python",
   "nbconvert_exporter": "python",
   "pygments_lexer": "ipython3",
   "version": "3.11.13"
  }
 },
 "nbformat": 4,
 "nbformat_minor": 5
}
